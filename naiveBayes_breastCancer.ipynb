{
 "cells": [
  {
   "cell_type": "code",
   "execution_count": 1,
   "metadata": {},
   "outputs": [],
   "source": [
    "import pandas as pd\n",
    "from sklearn.model_selection import train_test_split\n",
    "from sklearn.naive_bayes import GaussianNB\n",
    "from sklearn.metrics import accuracy_score\n",
    "\n",
    "# Carregar o dataset do arquivo .data no formato CSV\n",
    "data = pd.read_csv('breast-cancer.data', header=None)\n",
    "\n",
    "# Definir o nome das colunas (substitua 'col1', 'col2', ... pelos nomes reais das colunas)\n",
    "data.columns = ['class', 'col2', 'col3', 'col4', 'col5', 'col6', 'col7', 'col8', 'col9', 'target']\n",
    "\n",
    "# Separar as variáveis de entrada (X) da variável alvo (y)\n",
    "X = data.drop(columns=['target'])\n",
    "y = data['target']\n"
   ]
  },
  {
   "cell_type": "code",
   "execution_count": 2,
   "metadata": {},
   "outputs": [
    {
     "name": "stdout",
     "output_type": "stream",
     "text": [
      "0.3620689655172414\n"
     ]
    }
   ],
   "source": [
    "\n",
    "\n",
    "# Carregar o dataset do arquivo .data no formato \"arff\"\n",
    "data = pd.read_csv('breast-cancer.data', header=None)\n",
    "\n",
    "# Definir o nome das colunas\n",
    "data.columns = ['col1', 'col2', 'col3', 'col4', 'col5', 'col6', 'col7', 'col8', 'col9', 'target']\n",
    "\n",
    "# Separar as variáveis de entrada (X) da variável alvo (y)\n",
    "X = data.drop(columns=['target'])\n",
    "y = data['target']\n",
    "\n",
    "# Converter as variáveis categóricas em colunas numéricas (one-hot encoding)\n",
    "X = pd.get_dummies(X)\n",
    "\n",
    "# Criar uma lista para armazenar os resultados\n",
    "results_list = []\n",
    "\n",
    "# Dividir os dados em conjunto de treinamento e teste\n",
    "X_train, X_test, y_train, y_test = train_test_split(X, y, test_size=0.2, random_state=0)\n",
    "\n",
    "# Criar o modelo de Naive Bayes\n",
    "nb_classifier = GaussianNB()\n",
    "\n",
    "# Treinar o modelo com o conjunto de treinamento\n",
    "nb_classifier.fit(X_train, y_train)\n",
    "\n",
    "# Fazer previsões no conjunto de teste\n",
    "y_pred = nb_classifier.predict(X_test)\n",
    "\n",
    "# Avaliar a precisão do modelo\n",
    "accuracy = accuracy_score(y_test, y_pred)\n",
    "\n",
    "print(accuracy)\n",
    "\n"
   ]
  }
 ],
 "metadata": {
  "kernelspec": {
   "display_name": "myenv",
   "language": "python",
   "name": "python3"
  },
  "language_info": {
   "codemirror_mode": {
    "name": "ipython",
    "version": 3
   },
   "file_extension": ".py",
   "mimetype": "text/x-python",
   "name": "python",
   "nbconvert_exporter": "python",
   "pygments_lexer": "ipython3",
   "version": "3.11.4"
  },
  "orig_nbformat": 4
 },
 "nbformat": 4,
 "nbformat_minor": 2
}
